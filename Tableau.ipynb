{
 "cells": [
  {
   "cell_type": "code",
   "execution_count": 105,
   "metadata": {},
   "outputs": [],
   "source": [
    "# import geopy.distance\n",
    "from geopy.distance import distance\n",
    "\n",
    "from geopy import Point"
   ]
  },
  {
   "cell_type": "code",
   "execution_count": 106,
   "metadata": {},
   "outputs": [],
   "source": [
    "import pandas as pd\n",
    "import numpy as np\n",
    "from pprint import pprint\n",
    "from datetime import datetime"
   ]
  },
  {
   "cell_type": "code",
   "execution_count": 107,
   "metadata": {},
   "outputs": [
    {
     "output_type": "execute_result",
     "data": {
      "text/plain": [
       "   tripduration                 starttime                  stoptime  \\\n",
       "0           932  2018-01-01 02:06:17.5410  2018-01-01 02:21:50.0270   \n",
       "1           550  2018-01-01 12:06:18.0390  2018-01-01 12:15:28.4430   \n",
       "2           510  2018-01-01 12:06:56.9780  2018-01-01 12:15:27.8100   \n",
       "3           354  2018-01-01 14:53:10.1860  2018-01-01 14:59:05.0960   \n",
       "4           250  2018-01-01 17:34:30.1920  2018-01-01 17:38:40.9840   \n",
       "\n",
       "   start station id start station name   startLat  startLong  end station id  \\\n",
       "0              3183     Exchange Place  40.716247 -74.033459            3199   \n",
       "1              3183     Exchange Place  40.716247 -74.033459            3199   \n",
       "2              3183     Exchange Place  40.716247 -74.033459            3199   \n",
       "3              3183     Exchange Place  40.716247 -74.033459            3267   \n",
       "4              3183     Exchange Place  40.716247 -74.033459            3639   \n",
       "\n",
       "  end station name     endLat    endLong  bikeid    usertype  birthyear  \\\n",
       "0     Newport Pkwy  40.728745 -74.032108   31929  Subscriber       1992   \n",
       "1     Newport Pkwy  40.728745 -74.032108   31845  Subscriber       1969   \n",
       "2     Newport Pkwy  40.728745 -74.032108   31708  Subscriber       1946   \n",
       "3     Morris Canal  40.712419 -74.038526   31697  Subscriber       1994   \n",
       "4       Harborside  40.719252 -74.034234   31861  Subscriber       1991   \n",
       "\n",
       "   gender                             startGeo  \\\n",
       "0       1  40 42m 58.4888s N, 74 2m 0.45168s W   \n",
       "1       2  40 42m 58.4888s N, 74 2m 0.45168s W   \n",
       "2       1  40 42m 58.4888s N, 74 2m 0.45168s W   \n",
       "3       1  40 42m 58.4888s N, 74 2m 0.45168s W   \n",
       "4       1  40 42m 58.4888s N, 74 2m 0.45168s W   \n",
       "\n",
       "                                endGeo  tripDistMiles  averageSpeed  \n",
       "0  40 43m 43.4813s N, 74 1m 55.5895s W       1.038353      4.010807  \n",
       "1  40 43m 43.4813s N, 74 1m 55.5895s W       1.038353      6.796496  \n",
       "2  40 43m 43.4813s N, 74 1m 55.5895s W       1.038353      7.329554  \n",
       "3  40 42m 44.7078s N, 74 2m 18.6919s W       0.449867      4.574922  \n",
       "4   40 43m 9.30612s N, 74 2m 3.2424s W       0.253554      3.651176  "
      ],
      "text/html": "<div>\n<style scoped>\n    .dataframe tbody tr th:only-of-type {\n        vertical-align: middle;\n    }\n\n    .dataframe tbody tr th {\n        vertical-align: top;\n    }\n\n    .dataframe thead th {\n        text-align: right;\n    }\n</style>\n<table border=\"1\" class=\"dataframe\">\n  <thead>\n    <tr style=\"text-align: right;\">\n      <th></th>\n      <th>tripduration</th>\n      <th>starttime</th>\n      <th>stoptime</th>\n      <th>start station id</th>\n      <th>start station name</th>\n      <th>startLat</th>\n      <th>startLong</th>\n      <th>end station id</th>\n      <th>end station name</th>\n      <th>endLat</th>\n      <th>endLong</th>\n      <th>bikeid</th>\n      <th>usertype</th>\n      <th>birthyear</th>\n      <th>gender</th>\n      <th>startGeo</th>\n      <th>endGeo</th>\n      <th>tripDistMiles</th>\n      <th>averageSpeed</th>\n    </tr>\n  </thead>\n  <tbody>\n    <tr>\n      <th>0</th>\n      <td>932</td>\n      <td>2018-01-01 02:06:17.5410</td>\n      <td>2018-01-01 02:21:50.0270</td>\n      <td>3183</td>\n      <td>Exchange Place</td>\n      <td>40.716247</td>\n      <td>-74.033459</td>\n      <td>3199</td>\n      <td>Newport Pkwy</td>\n      <td>40.728745</td>\n      <td>-74.032108</td>\n      <td>31929</td>\n      <td>Subscriber</td>\n      <td>1992</td>\n      <td>1</td>\n      <td>40 42m 58.4888s N, 74 2m 0.45168s W</td>\n      <td>40 43m 43.4813s N, 74 1m 55.5895s W</td>\n      <td>1.038353</td>\n      <td>4.010807</td>\n    </tr>\n    <tr>\n      <th>1</th>\n      <td>550</td>\n      <td>2018-01-01 12:06:18.0390</td>\n      <td>2018-01-01 12:15:28.4430</td>\n      <td>3183</td>\n      <td>Exchange Place</td>\n      <td>40.716247</td>\n      <td>-74.033459</td>\n      <td>3199</td>\n      <td>Newport Pkwy</td>\n      <td>40.728745</td>\n      <td>-74.032108</td>\n      <td>31845</td>\n      <td>Subscriber</td>\n      <td>1969</td>\n      <td>2</td>\n      <td>40 42m 58.4888s N, 74 2m 0.45168s W</td>\n      <td>40 43m 43.4813s N, 74 1m 55.5895s W</td>\n      <td>1.038353</td>\n      <td>6.796496</td>\n    </tr>\n    <tr>\n      <th>2</th>\n      <td>510</td>\n      <td>2018-01-01 12:06:56.9780</td>\n      <td>2018-01-01 12:15:27.8100</td>\n      <td>3183</td>\n      <td>Exchange Place</td>\n      <td>40.716247</td>\n      <td>-74.033459</td>\n      <td>3199</td>\n      <td>Newport Pkwy</td>\n      <td>40.728745</td>\n      <td>-74.032108</td>\n      <td>31708</td>\n      <td>Subscriber</td>\n      <td>1946</td>\n      <td>1</td>\n      <td>40 42m 58.4888s N, 74 2m 0.45168s W</td>\n      <td>40 43m 43.4813s N, 74 1m 55.5895s W</td>\n      <td>1.038353</td>\n      <td>7.329554</td>\n    </tr>\n    <tr>\n      <th>3</th>\n      <td>354</td>\n      <td>2018-01-01 14:53:10.1860</td>\n      <td>2018-01-01 14:59:05.0960</td>\n      <td>3183</td>\n      <td>Exchange Place</td>\n      <td>40.716247</td>\n      <td>-74.033459</td>\n      <td>3267</td>\n      <td>Morris Canal</td>\n      <td>40.712419</td>\n      <td>-74.038526</td>\n      <td>31697</td>\n      <td>Subscriber</td>\n      <td>1994</td>\n      <td>1</td>\n      <td>40 42m 58.4888s N, 74 2m 0.45168s W</td>\n      <td>40 42m 44.7078s N, 74 2m 18.6919s W</td>\n      <td>0.449867</td>\n      <td>4.574922</td>\n    </tr>\n    <tr>\n      <th>4</th>\n      <td>250</td>\n      <td>2018-01-01 17:34:30.1920</td>\n      <td>2018-01-01 17:38:40.9840</td>\n      <td>3183</td>\n      <td>Exchange Place</td>\n      <td>40.716247</td>\n      <td>-74.033459</td>\n      <td>3639</td>\n      <td>Harborside</td>\n      <td>40.719252</td>\n      <td>-74.034234</td>\n      <td>31861</td>\n      <td>Subscriber</td>\n      <td>1991</td>\n      <td>1</td>\n      <td>40 42m 58.4888s N, 74 2m 0.45168s W</td>\n      <td>40 43m 9.30612s N, 74 2m 3.2424s W</td>\n      <td>0.253554</td>\n      <td>3.651176</td>\n    </tr>\n  </tbody>\n</table>\n</div>"
     },
     "metadata": {},
     "execution_count": 107
    }
   ],
   "source": [
    "#Calculate trip distance, as the crow flies 2018\n",
    "jan2018 = pd.read_csv(\"JC-201801.csv\")\n",
    "feb2018 = pd.read_csv(\"JC-201802.csv\")\n",
    "mar2018 = pd.read_csv(\"JC-201803.csv\")\n",
    "apr2018 = pd.read_csv(\"JC-201804.csv\")\n",
    "may2018 = pd.read_csv(\"JC-201805.csv\")\n",
    "jun2018 = pd.read_csv(\"JC-201806.csv\")\n",
    "jul2018 = pd.read_csv(\"JC-201807.csv\")\n",
    "aug2018 = pd.read_csv(\"JC-201808.csv\")\n",
    "sep2018 = pd.read_csv(\"JC-201809.csv\")\n",
    "oct2018 = pd.read_csv(\"JC-201810.csv\")\n",
    "nov2018 = pd.read_csv(\"JC-201811.csv\")\n",
    "dec2018 = pd.read_csv(\"JC-201812.csv\")\n",
    "df2018 = pd.concat([jan2018, feb2018, mar2018, apr2018,may2018, jun2018, jul2018, aug2018, sep2018, oct2018, nov2018, dec2018])\n",
    "#rename some columns to make later code easier to type\n",
    "df2018.rename({\"start station latitude\":\"startLat\",\"start station longitude\":\"startLong\", \"end station latitude\":\"endLat\",\"end station longitude\": \"endLong\", \"birth year\":\"birthyear\"}, axis = 'columns', inplace = True)\n",
    "#create new columns that combine the lat/long as a point\n",
    "df2018['startGeo'] = df2018.apply(lambda row: Point(latitude=row[\"startLat\"], longitude = row[\"startLong\"]), axis =1)\n",
    "df2018['endGeo'] = df2018.apply(lambda row: Point(latitude=row[\"endLat\"], longitude = row[\"endLong\"]), axis =1)\n",
    "# use the points to calculate straight-line distance\n",
    "# adding a 20% bonus to the distance since few, if any will be straight line trips.  (this factor is purely guestimate )\n",
    "df2018['tripDistMiles'] = df2018.apply(lambda row: distance(row['startGeo'], row['endGeo']).miles , axis=1) *1.2\n",
    "\n",
    "# Divide distance by (seconds/3600) to get MPH\n",
    "df2018['averageSpeed'] = df2018['tripDistMiles'] / (df2018['tripduration'] /3600 )\n",
    "\n",
    "df2018.head()"
   ]
  },
  {
   "cell_type": "code",
   "execution_count": 108,
   "metadata": {},
   "outputs": [
    {
     "output_type": "execute_result",
     "data": {
      "text/plain": [
       "   tripduration                 starttime                  stoptime  \\\n",
       "0           201  2019-01-01 03:09:09.7110  2019-01-01 03:12:30.8790   \n",
       "1           505  2019-01-01 05:18:00.1060  2019-01-01 05:26:25.9050   \n",
       "2           756  2019-01-01 10:36:33.3400  2019-01-01 10:49:10.2600   \n",
       "3          1575  2019-01-01 12:43:38.6430  2019-01-01 13:09:54.5280   \n",
       "4          1566  2019-01-01 12:43:39.6010  2019-01-01 13:09:46.5100   \n",
       "\n",
       "   start station id start station name   startLat  startLong  end station id  \\\n",
       "0              3183     Exchange Place  40.716247 -74.033459            3214   \n",
       "1              3183     Exchange Place  40.716247 -74.033459            3638   \n",
       "2              3183     Exchange Place  40.716247 -74.033459            3192   \n",
       "3              3183     Exchange Place  40.716247 -74.033459            3638   \n",
       "4              3183     Exchange Place  40.716247 -74.033459            3638   \n",
       "\n",
       "     end station name     endLat    endLong  bikeid    usertype  birthyear  \\\n",
       "0    Essex Light Rail  40.712774 -74.036486   29612  Subscriber       1993   \n",
       "1       Washington St  40.724294 -74.035483   29213  Subscriber       1972   \n",
       "2  Liberty Light Rail  40.711242 -74.055701   26164  Subscriber       1985   \n",
       "3       Washington St  40.724294 -74.035483   29672    Customer       1969   \n",
       "4       Washington St  40.724294 -74.035483   29522    Customer       1969   \n",
       "\n",
       "   gender                             startGeo  \\\n",
       "0       1  40 42m 58.4888s N, 74 2m 0.45168s W   \n",
       "1       2  40 42m 58.4888s N, 74 2m 0.45168s W   \n",
       "2       1  40 42m 58.4888s N, 74 2m 0.45168s W   \n",
       "3       0  40 42m 58.4888s N, 74 2m 0.45168s W   \n",
       "4       0  40 42m 58.4888s N, 74 2m 0.45168s W   \n",
       "\n",
       "                                endGeo  tripDistMiles  averageSpeed  \n",
       "0  40 42m 45.9871s N, 74 2m 11.3485s W       0.345043      6.179873  \n",
       "1  40 43m 27.4588s N, 74 2m 7.73736s W       0.678419      4.836255  \n",
       "2  40 42m 40.4723s N, 74 3m 20.5247s W       1.461388      6.958988  \n",
       "3  40 43m 27.4588s N, 74 2m 7.73736s W       0.678419      1.550672  \n",
       "4  40 43m 27.4588s N, 74 2m 7.73736s W       0.678419      1.559584  "
      ],
      "text/html": "<div>\n<style scoped>\n    .dataframe tbody tr th:only-of-type {\n        vertical-align: middle;\n    }\n\n    .dataframe tbody tr th {\n        vertical-align: top;\n    }\n\n    .dataframe thead th {\n        text-align: right;\n    }\n</style>\n<table border=\"1\" class=\"dataframe\">\n  <thead>\n    <tr style=\"text-align: right;\">\n      <th></th>\n      <th>tripduration</th>\n      <th>starttime</th>\n      <th>stoptime</th>\n      <th>start station id</th>\n      <th>start station name</th>\n      <th>startLat</th>\n      <th>startLong</th>\n      <th>end station id</th>\n      <th>end station name</th>\n      <th>endLat</th>\n      <th>endLong</th>\n      <th>bikeid</th>\n      <th>usertype</th>\n      <th>birthyear</th>\n      <th>gender</th>\n      <th>startGeo</th>\n      <th>endGeo</th>\n      <th>tripDistMiles</th>\n      <th>averageSpeed</th>\n    </tr>\n  </thead>\n  <tbody>\n    <tr>\n      <th>0</th>\n      <td>201</td>\n      <td>2019-01-01 03:09:09.7110</td>\n      <td>2019-01-01 03:12:30.8790</td>\n      <td>3183</td>\n      <td>Exchange Place</td>\n      <td>40.716247</td>\n      <td>-74.033459</td>\n      <td>3214</td>\n      <td>Essex Light Rail</td>\n      <td>40.712774</td>\n      <td>-74.036486</td>\n      <td>29612</td>\n      <td>Subscriber</td>\n      <td>1993</td>\n      <td>1</td>\n      <td>40 42m 58.4888s N, 74 2m 0.45168s W</td>\n      <td>40 42m 45.9871s N, 74 2m 11.3485s W</td>\n      <td>0.345043</td>\n      <td>6.179873</td>\n    </tr>\n    <tr>\n      <th>1</th>\n      <td>505</td>\n      <td>2019-01-01 05:18:00.1060</td>\n      <td>2019-01-01 05:26:25.9050</td>\n      <td>3183</td>\n      <td>Exchange Place</td>\n      <td>40.716247</td>\n      <td>-74.033459</td>\n      <td>3638</td>\n      <td>Washington St</td>\n      <td>40.724294</td>\n      <td>-74.035483</td>\n      <td>29213</td>\n      <td>Subscriber</td>\n      <td>1972</td>\n      <td>2</td>\n      <td>40 42m 58.4888s N, 74 2m 0.45168s W</td>\n      <td>40 43m 27.4588s N, 74 2m 7.73736s W</td>\n      <td>0.678419</td>\n      <td>4.836255</td>\n    </tr>\n    <tr>\n      <th>2</th>\n      <td>756</td>\n      <td>2019-01-01 10:36:33.3400</td>\n      <td>2019-01-01 10:49:10.2600</td>\n      <td>3183</td>\n      <td>Exchange Place</td>\n      <td>40.716247</td>\n      <td>-74.033459</td>\n      <td>3192</td>\n      <td>Liberty Light Rail</td>\n      <td>40.711242</td>\n      <td>-74.055701</td>\n      <td>26164</td>\n      <td>Subscriber</td>\n      <td>1985</td>\n      <td>1</td>\n      <td>40 42m 58.4888s N, 74 2m 0.45168s W</td>\n      <td>40 42m 40.4723s N, 74 3m 20.5247s W</td>\n      <td>1.461388</td>\n      <td>6.958988</td>\n    </tr>\n    <tr>\n      <th>3</th>\n      <td>1575</td>\n      <td>2019-01-01 12:43:38.6430</td>\n      <td>2019-01-01 13:09:54.5280</td>\n      <td>3183</td>\n      <td>Exchange Place</td>\n      <td>40.716247</td>\n      <td>-74.033459</td>\n      <td>3638</td>\n      <td>Washington St</td>\n      <td>40.724294</td>\n      <td>-74.035483</td>\n      <td>29672</td>\n      <td>Customer</td>\n      <td>1969</td>\n      <td>0</td>\n      <td>40 42m 58.4888s N, 74 2m 0.45168s W</td>\n      <td>40 43m 27.4588s N, 74 2m 7.73736s W</td>\n      <td>0.678419</td>\n      <td>1.550672</td>\n    </tr>\n    <tr>\n      <th>4</th>\n      <td>1566</td>\n      <td>2019-01-01 12:43:39.6010</td>\n      <td>2019-01-01 13:09:46.5100</td>\n      <td>3183</td>\n      <td>Exchange Place</td>\n      <td>40.716247</td>\n      <td>-74.033459</td>\n      <td>3638</td>\n      <td>Washington St</td>\n      <td>40.724294</td>\n      <td>-74.035483</td>\n      <td>29522</td>\n      <td>Customer</td>\n      <td>1969</td>\n      <td>0</td>\n      <td>40 42m 58.4888s N, 74 2m 0.45168s W</td>\n      <td>40 43m 27.4588s N, 74 2m 7.73736s W</td>\n      <td>0.678419</td>\n      <td>1.559584</td>\n    </tr>\n  </tbody>\n</table>\n</div>"
     },
     "metadata": {},
     "execution_count": 108
    }
   ],
   "source": [
    "##Calculate trip distance, as the crow flies 2019\n",
    "# jan2019 = pd.read_csv(\"JC-201901.csv\")\n",
    "jan2019 = pd.read_csv(\"JC-201901.csv\")\n",
    "feb2019 = pd.read_csv(\"JC-201902.csv\")\n",
    "mar2019 = pd.read_csv(\"JC-201903.csv\")\n",
    "apr2019 = pd.read_csv(\"JC-201904.csv\")\n",
    "may2019 = pd.read_csv(\"JC-201905.csv\")\n",
    "jun2019 = pd.read_csv(\"JC-201906.csv\")\n",
    "jul2019 = pd.read_csv(\"JC-201907.csv\")\n",
    "aug2019 = pd.read_csv(\"JC-201908.csv\")\n",
    "sep2019 = pd.read_csv(\"JC-201909.csv\")\n",
    "oct2019 = pd.read_csv(\"JC-201910.csv\")\n",
    "nov2019 = pd.read_csv(\"JC-201911.csv\")\n",
    "dec2019 = pd.read_csv(\"JC-201912.csv\")\n",
    "df2019 = pd.concat([jan2019, feb2019, mar2019, apr2019,may2019, jun2019, jul2019, aug2019, sep2019, oct2019, nov2019, dec2019])\n",
    "#rename some columns to make later code easier to type\n",
    "df2019.rename({\"start station latitude\":\"startLat\",\"start station longitude\":\"startLong\", \"end station latitude\":\"endLat\",\"end station longitude\": \"endLong\",\"birth year\":\"birthyear\"}, axis = 'columns', inplace = True)\n",
    "#create new columns that combine the lat/long as a point\n",
    "df2019['startGeo'] = df2019.apply(lambda row: Point(latitude=row[\"startLat\"], longitude = row[\"startLong\"]), axis =1)\n",
    "df2019['endGeo'] = df2019.apply(lambda row: Point(latitude=row[\"endLat\"], longitude = row[\"endLong\"]), axis =1)\n",
    "#use the points to calculate straight-line distance\n",
    "df2019['tripDistMiles'] = df2019.apply(lambda row: distance(row['startGeo'], row['endGeo']).miles , axis=1) * 1.2\n",
    "\n",
    "# Divide distance by (seconds/3600) to get MPH\n",
    "df2019['averageSpeed'] = df2019['tripDistMiles'] / (df2019['tripduration'] /3600 )\n",
    "\n",
    "df2019.head()"
   ]
  },
  {
   "cell_type": "code",
   "execution_count": 109,
   "metadata": {},
   "outputs": [
    {
     "output_type": "execute_result",
     "data": {
      "text/plain": [
       "   tripduration                 starttime                  stoptime  \\\n",
       "0           226  2020-01-01 00:04:50.1920  2020-01-01 00:08:37.0370   \n",
       "1           377  2020-01-01 00:16:01.6700  2020-01-01 00:22:19.0800   \n",
       "2           288  2020-01-01 00:17:33.8770  2020-01-01 00:22:22.4420   \n",
       "3           435  2020-01-01 00:32:05.9020  2020-01-01 00:39:21.0660   \n",
       "4           231  2020-01-01 00:46:19.6780  2020-01-01 00:50:11.3440   \n",
       "\n",
       "   start station id start station name   startLat  startLong  end station id  \\\n",
       "0              3186      Grove St PATH  40.719586 -74.043117            3211   \n",
       "1              3186      Grove St PATH  40.719586 -74.043117            3269   \n",
       "2              3186      Grove St PATH  40.719586 -74.043117            3269   \n",
       "3              3195            Sip Ave  40.730897 -74.063913            3280   \n",
       "4              3186      Grove St PATH  40.719586 -74.043117            3276   \n",
       "\n",
       "   end station name     endLat    endLong  bikeid    usertype  birthyear  \\\n",
       "0        Newark Ave  40.721525 -74.046305   29444  Subscriber       1984   \n",
       "1   Brunswick & 6th  40.726012 -74.050389   26305  Subscriber       1989   \n",
       "2   Brunswick & 6th  40.726012 -74.050389   29268    Customer       1989   \n",
       "3       Astor Place  40.719282 -74.071262   29278    Customer       1969   \n",
       "4  Marin Light Rail  40.714584 -74.042817   29276  Subscriber       1983   \n",
       "\n",
       "   gender                             startGeo  \\\n",
       "0       2    40 43m 10.51s N, 74 2m 35.2229s W   \n",
       "1       2    40 43m 10.51s N, 74 2m 35.2229s W   \n",
       "2       1    40 43m 10.51s N, 74 2m 35.2229s W   \n",
       "3       0  40 43m 51.2296s N, 74 3m 50.0855s W   \n",
       "4       2    40 43m 10.51s N, 74 2m 35.2229s W   \n",
       "\n",
       "                                endGeo  tripDistMiles  averageSpeed  \n",
       "0  40 43m 17.4905s N, 74 2m 46.6964s W       0.257085      4.095160  \n",
       "1  40 43m 33.6422s N, 74 3m 1.40016s W       0.702087      6.704275  \n",
       "2  40 43m 33.6422s N, 74 3m 1.40016s W       0.702087      8.776082  \n",
       "3  40 43m 9.41592s N, 74 4m 16.5428s W       1.067377      8.833468  \n",
       "4  40 42m 52.5025s N, 74 2m 34.1414s W       0.414618      6.461585  "
      ],
      "text/html": "<div>\n<style scoped>\n    .dataframe tbody tr th:only-of-type {\n        vertical-align: middle;\n    }\n\n    .dataframe tbody tr th {\n        vertical-align: top;\n    }\n\n    .dataframe thead th {\n        text-align: right;\n    }\n</style>\n<table border=\"1\" class=\"dataframe\">\n  <thead>\n    <tr style=\"text-align: right;\">\n      <th></th>\n      <th>tripduration</th>\n      <th>starttime</th>\n      <th>stoptime</th>\n      <th>start station id</th>\n      <th>start station name</th>\n      <th>startLat</th>\n      <th>startLong</th>\n      <th>end station id</th>\n      <th>end station name</th>\n      <th>endLat</th>\n      <th>endLong</th>\n      <th>bikeid</th>\n      <th>usertype</th>\n      <th>birthyear</th>\n      <th>gender</th>\n      <th>startGeo</th>\n      <th>endGeo</th>\n      <th>tripDistMiles</th>\n      <th>averageSpeed</th>\n    </tr>\n  </thead>\n  <tbody>\n    <tr>\n      <th>0</th>\n      <td>226</td>\n      <td>2020-01-01 00:04:50.1920</td>\n      <td>2020-01-01 00:08:37.0370</td>\n      <td>3186</td>\n      <td>Grove St PATH</td>\n      <td>40.719586</td>\n      <td>-74.043117</td>\n      <td>3211</td>\n      <td>Newark Ave</td>\n      <td>40.721525</td>\n      <td>-74.046305</td>\n      <td>29444</td>\n      <td>Subscriber</td>\n      <td>1984</td>\n      <td>2</td>\n      <td>40 43m 10.51s N, 74 2m 35.2229s W</td>\n      <td>40 43m 17.4905s N, 74 2m 46.6964s W</td>\n      <td>0.257085</td>\n      <td>4.095160</td>\n    </tr>\n    <tr>\n      <th>1</th>\n      <td>377</td>\n      <td>2020-01-01 00:16:01.6700</td>\n      <td>2020-01-01 00:22:19.0800</td>\n      <td>3186</td>\n      <td>Grove St PATH</td>\n      <td>40.719586</td>\n      <td>-74.043117</td>\n      <td>3269</td>\n      <td>Brunswick &amp; 6th</td>\n      <td>40.726012</td>\n      <td>-74.050389</td>\n      <td>26305</td>\n      <td>Subscriber</td>\n      <td>1989</td>\n      <td>2</td>\n      <td>40 43m 10.51s N, 74 2m 35.2229s W</td>\n      <td>40 43m 33.6422s N, 74 3m 1.40016s W</td>\n      <td>0.702087</td>\n      <td>6.704275</td>\n    </tr>\n    <tr>\n      <th>2</th>\n      <td>288</td>\n      <td>2020-01-01 00:17:33.8770</td>\n      <td>2020-01-01 00:22:22.4420</td>\n      <td>3186</td>\n      <td>Grove St PATH</td>\n      <td>40.719586</td>\n      <td>-74.043117</td>\n      <td>3269</td>\n      <td>Brunswick &amp; 6th</td>\n      <td>40.726012</td>\n      <td>-74.050389</td>\n      <td>29268</td>\n      <td>Customer</td>\n      <td>1989</td>\n      <td>1</td>\n      <td>40 43m 10.51s N, 74 2m 35.2229s W</td>\n      <td>40 43m 33.6422s N, 74 3m 1.40016s W</td>\n      <td>0.702087</td>\n      <td>8.776082</td>\n    </tr>\n    <tr>\n      <th>3</th>\n      <td>435</td>\n      <td>2020-01-01 00:32:05.9020</td>\n      <td>2020-01-01 00:39:21.0660</td>\n      <td>3195</td>\n      <td>Sip Ave</td>\n      <td>40.730897</td>\n      <td>-74.063913</td>\n      <td>3280</td>\n      <td>Astor Place</td>\n      <td>40.719282</td>\n      <td>-74.071262</td>\n      <td>29278</td>\n      <td>Customer</td>\n      <td>1969</td>\n      <td>0</td>\n      <td>40 43m 51.2296s N, 74 3m 50.0855s W</td>\n      <td>40 43m 9.41592s N, 74 4m 16.5428s W</td>\n      <td>1.067377</td>\n      <td>8.833468</td>\n    </tr>\n    <tr>\n      <th>4</th>\n      <td>231</td>\n      <td>2020-01-01 00:46:19.6780</td>\n      <td>2020-01-01 00:50:11.3440</td>\n      <td>3186</td>\n      <td>Grove St PATH</td>\n      <td>40.719586</td>\n      <td>-74.043117</td>\n      <td>3276</td>\n      <td>Marin Light Rail</td>\n      <td>40.714584</td>\n      <td>-74.042817</td>\n      <td>29276</td>\n      <td>Subscriber</td>\n      <td>1983</td>\n      <td>2</td>\n      <td>40 43m 10.51s N, 74 2m 35.2229s W</td>\n      <td>40 42m 52.5025s N, 74 2m 34.1414s W</td>\n      <td>0.414618</td>\n      <td>6.461585</td>\n    </tr>\n  </tbody>\n</table>\n</div>"
     },
     "metadata": {},
     "execution_count": 109
    }
   ],
   "source": [
    "##Calculate trip distance, as the crow flies 2020\n",
    "# jan2020 = pd.read_csv(\"JC-202001.csv\")\n",
    "jan2020 = pd.read_csv(\"JC-202001.csv\")\n",
    "feb2020 = pd.read_csv(\"JC-202002.csv\")\n",
    "mar2020 = pd.read_csv(\"JC-202003.csv\")\n",
    "apr2020 = pd.read_csv(\"JC-202004.csv\")\n",
    "may2020 = pd.read_csv(\"JC-202005.csv\")\n",
    "jun2020 = pd.read_csv(\"JC-202006.csv\")\n",
    "jul2020 = pd.read_csv(\"JC-202007.csv\")\n",
    "aug2020 = pd.read_csv(\"JC-202008.csv\")\n",
    "sep2020 = pd.read_csv(\"JC-202009.csv\")\n",
    "oct2020 = pd.read_csv(\"JC-202010.csv\")\n",
    "nov2020 = pd.read_csv(\"JC-202011.csv\")\n",
    "dec2020 = pd.read_csv(\"JC-202012.csv\")\n",
    "df2020 = pd.concat([jan2020, feb2020, mar2020, apr2020,may2020, jun2020, jul2020, aug2020, sep2020, oct2020, nov2020, dec2020])\n",
    "#rename some columns to make later code easier to type\n",
    "df2020.rename({\"start station latitude\":\"startLat\",\"start station longitude\":\"startLong\", \"end station latitude\":\"endLat\",\"end station longitude\": \"endLong\",\"birth year\":\"birthyear\" }, axis = 'columns', inplace = True)\n",
    "#create new columns that combine the lat/long as a point\n",
    "df2020['startGeo'] = df2020.apply(lambda row: Point(latitude=row[\"startLat\"], longitude = row[\"startLong\"]), axis =1)\n",
    "df2020['endGeo'] = df2020.apply(lambda row: Point(latitude=row[\"endLat\"], longitude = row[\"endLong\"]), axis =1)\n",
    "#use the points to calculate straight-line distance\n",
    "df2020['tripDistMiles'] = df2020.apply(lambda row: distance(row['startGeo'], row['endGeo']).miles , axis=1) *1.2\n",
    "\n",
    "# Divide distance by (seconds/3600) to get MPH\n",
    "df2020['averageSpeed'] = df2020['tripDistMiles'] / (df2020['tripduration'] /3600 )\n",
    "\n",
    "df2020.head()"
   ]
  },
  {
   "cell_type": "code",
   "execution_count": 110,
   "metadata": {},
   "outputs": [],
   "source": [
    "# Turns out I need to do this to clean up birhtdays in the 1800's\n",
    "# edit Moved above\n",
    "# df2020.rename({\"birth year\":\"birthyear\"}, axis = 'columns', inplace = True)\n",
    "# df2018.rename({\"birth year\":\"birthyear\"}, axis = 'columns', inplace = True)\n",
    "# df2019.rename({\"birth year\":\"birthyear\"}, axis = 'columns', inplace = True)\n",
    "# df2020.head()"
   ]
  },
  {
   "cell_type": "code",
   "execution_count": 128,
   "metadata": {},
   "outputs": [],
   "source": [
    "# Drop any users < 100 years old.  Should probably knock it down to 90+\n",
    "df2020.drop(df2020[df2020.birthyear < 1920].index, inplace=True)\n",
    "df2018.drop(df2018[df2018.birthyear < 1918].index, inplace=True)\n",
    "df2019.drop(df2019[df2019.birthyear < 1919].index, inplace=True)\n",
    "\n"
   ]
  },
  {
   "cell_type": "code",
   "execution_count": 147,
   "metadata": {},
   "outputs": [],
   "source": [
    "# Drop any rows that have an averages speed greater than 25mph, they \n",
    "# probably were result of bike being thrown in a truck and moved between\n",
    "# stations without being logged off sytem.  Realistically anything > than 18 should be filtered out\n",
    "df2020.drop(df2020[df2020.averageSpeed >25].index, inplace=True)\n",
    "df2018.drop(df2018[df2018.averageSpeed >25].index, inplace=True)\n",
    "df2019.drop(df2019[df2019.averageSpeed >25].index, inplace=True)\n",
    "fastestSpeed2018 =df2018['averageSpeed'].max()\n",
    "avgSpeed2018 = df2018['averageSpeed'].mean()\n",
    "fastestSpeed2019 =df2019['averageSpeed'].max()\n",
    "avgSpeed2019 = df2019['averageSpeed'].mean()\n",
    "fastestSpeed2020 =df2020['averageSpeed'].max()\n",
    "avgSpeed2020 = df2020['averageSpeed'].mean()"
   ]
  },
  {
   "cell_type": "code",
   "execution_count": 130,
   "metadata": {},
   "outputs": [
    {
     "output_type": "stream",
     "name": "stdout",
     "text": [
      " 2018 user types ['Subscriber' 'Customer']\n 2019 user types ['Subscriber' 'Customer']\n 2020 user types ['Subscriber' 'Customer']\n"
     ]
    }
   ],
   "source": [
    "# Check to make sure there are only 2 types of users\n",
    "print(f' 2018 user types {df2018[\"usertype\"].unique()}')\n",
    "print(f' 2019 user types {df2019[\"usertype\"].unique()}')\n",
    "print(f' 2020 user types {df2020[\"usertype\"].unique()}')\n"
   ]
  },
  {
   "cell_type": "code",
   "execution_count": 131,
   "metadata": {},
   "outputs": [
    {
     "output_type": "stream",
     "name": "stdout",
     "text": [
      "Jersey City had 330425 subscribers in 2018\nJersey City had 360320 subscribers in 2019\nJersey City had 231377 subscribers in 2020\n"
     ]
    }
   ],
   "source": [
    "#Count how many subscribers\n",
    "subscount2018 = len(df2018.loc[df2018[\"usertype\"]==\"Subscriber\"])\n",
    "subscount2019 = len(df2019.loc[df2019[\"usertype\"]==\"Subscriber\"])\n",
    "subscount2020 = len(df2020.loc[df2020[\"usertype\"]==\"Subscriber\"])\n",
    "\n",
    "print(f'Jersey City had {subscount2018} subscribers in 2018')\n",
    "print(f'Jersey City had {subscount2019} subscribers in 2019')\n",
    "print(f'Jersey City had {subscount2020} subscribers in 2020')"
   ]
  },
  {
   "cell_type": "code",
   "execution_count": 132,
   "metadata": {},
   "outputs": [
    {
     "output_type": "stream",
     "name": "stdout",
     "text": [
      "Jersey city had 22106 day pass users in 2018\nJersey city had 42851 day pass users in 2020\nJersey city had 105218 day pass users in 2020\n"
     ]
    }
   ],
   "source": [
    "# Count the day passses\n",
    "custcount2018 = len(df2018.loc[df2018[\"usertype\"]==\"Customer\"])\n",
    "custcount2019 = len(df2019.loc[df2019[\"usertype\"]==\"Customer\"])\n",
    "custcount2020 = len(df2020.loc[df2020[\"usertype\"]==\"Customer\"])\n",
    "print(f'Jersey city had {custcount2018} day pass users in 2018')\n",
    "print(f'Jersey city had {custcount2019} day pass users in 2020')\n",
    "print(f'Jersey city had {custcount2020} day pass users in 2020')"
   ]
  },
  {
   "cell_type": "code",
   "execution_count": 133,
   "metadata": {},
   "outputs": [
    {
     "output_type": "stream",
     "name": "stdout",
     "text": [
      "The 2018 file has 352531 rows\nThe 2019 file has 403171 rows\nThe 2020 file has 336595 rows\n"
     ]
    }
   ],
   "source": [
    "countRow2018 = df2018.shape[0]\n",
    "countRow2019 = df2019.shape[0]\n",
    "countRow2020 = df2020.shape[0]\n",
    "print(f'The 2018 file has {countRow2018} rows')\n",
    "print(f'The 2019 file has {countRow2019} rows')\n",
    "print(f'The 2020 file has {countRow2020} rows')"
   ]
  },
  {
   "cell_type": "code",
   "execution_count": 134,
   "metadata": {},
   "outputs": [
    {
     "output_type": "stream",
     "name": "stdout",
     "text": [
      "93.73 of riders in 2018 were Subscribers\n6.27 of riders in 2018 were Day Pass users\n\n89.37 of riders in 2019 were Subscribers\n10.63 of riders in 2019 were Day Pass users\n\n68.74 of riders in 2020 were Subscribers\n31.26 of riders in 2020 were Day Pass users\n\n"
     ]
    }
   ],
   "source": [
    "print(f'{round(subscount2018 / (countRow2018) * 100, 2)} of riders in 2018 were Subscribers')\n",
    "print(f'{round(custcount2018 / (countRow2018) * 100, 2)} of riders in 2018 were Day Pass users\\n')\n",
    "print(f'{round(subscount2019 / (countRow2019) * 100, 2)} of riders in 2019 were Subscribers')\n",
    "print(f'{round(custcount2019 / (countRow2019) * 100, 2)} of riders in 2019 were Day Pass users\\n')\n",
    "print(f'{round(subscount2020 / (countRow2020) * 100, 2)} of riders in 2020 were Subscribers')\n",
    "print(f'{round(custcount2020 / (countRow2020) * 100, 2)} of riders in 2020 were Day Pass users\\n')"
   ]
  },
  {
   "cell_type": "code",
   "execution_count": 135,
   "metadata": {},
   "outputs": [],
   "source": [
    "#Count of male trips\n",
    "maletrips2018 = len(df2018.loc[df2018[\"gender\"]==1])\n",
    "maletrips2019 = len(df2019.loc[df2019[\"gender\"]==1])\n",
    "maletrips2020 = len(df2020.loc[df2020[\"gender\"]==1])"
   ]
  },
  {
   "cell_type": "code",
   "execution_count": 136,
   "metadata": {},
   "outputs": [],
   "source": [
    "#count of female trips\n",
    "femaletrips2018 = len(df2018.loc[df2018[\"gender\"]==2])\n",
    "femaletrips2019 = len(df2019.loc[df2019[\"gender\"]==2])\n",
    "femaletrips2020 = len(df2020.loc[df2020[\"gender\"]==2])"
   ]
  },
  {
   "cell_type": "code",
   "execution_count": 137,
   "metadata": {},
   "outputs": [
    {
     "output_type": "stream",
     "name": "stdout",
     "text": [
      "\n----2018----\nMale renters   256239\nFemale renters  75067\nUnknown gender  21225\nMale Trips         77.34%\nFemale Trips       22.66%\n\n----2019----\nMale renters   285254\nFemale renters  91749\nUnknown gender  26168\nMale Trips         75.66%\nFemale Trips       24.34%\n\n----2020----\nMale renters   199689\nFemale renters  84751\nUnknown gender  52155\nMale Trips         70.2%\nFemale Trips       29.8%\n"
     ]
    }
   ],
   "source": [
    "# unknown trips\n",
    "unknowntrips2018 = len(df2018.loc[df2018[\"gender\"]==0])\n",
    "percentMale2018 = round(maletrips2018 / (maletrips2018 + femaletrips2018) * 100, 2)\n",
    "percentFemale2018 = round(100 - percentMale2018, 2)\n",
    "print(f'\\n----2018----')\n",
    "print(f'Male renters   {maletrips2018}')\n",
    "print(f'Female renters  {femaletrips2018}')\n",
    "print(f'Unknown gender  {unknowntrips2018}')\n",
    "print(f'Male Trips         {percentMale2018}%')\n",
    "print(f'Female Trips       {percentFemale2018}%')\n",
    "\n",
    "# unknown trips 2019\n",
    "unknowntrips2019 = len(df2019.loc[df2019[\"gender\"]==0])\n",
    "percentMale2019 = round(maletrips2019 / (maletrips2019 + femaletrips2019) * 100, 2)\n",
    "percentFemale2019 = round(100 - percentMale2019, 2)\n",
    "print(f'\\n----2019----')\n",
    "print(f'Male renters   {maletrips2019}')\n",
    "print(f'Female renters  {femaletrips2019}')\n",
    "print(f'Unknown gender  {unknowntrips2019}')\n",
    "print(f'Male Trips         {percentMale2019}%')\n",
    "print(f'Female Trips       {percentFemale2019}%')\n",
    "\n",
    "# unknown trips 2020\n",
    "unknowntrips2020 = len(df2020.loc[df2020[\"gender\"]==0])\n",
    "percentMale2020 = round(maletrips2020 / (maletrips2020 + femaletrips2020) * 100, 2)\n",
    "percentFemale2020 = round(100 - percentMale2020, 2)\n",
    "print(f'\\n----2020----')\n",
    "print(f'Male renters   {maletrips2020}')\n",
    "print(f'Female renters  {femaletrips2020}')\n",
    "print(f'Unknown gender  {unknowntrips2020}')\n",
    "print(f'Male Trips         {percentMale2020}%')\n",
    "print(f'Female Trips       {percentFemale2020}%')"
   ]
  },
  {
   "cell_type": "code",
   "execution_count": 138,
   "metadata": {},
   "outputs": [
    {
     "output_type": "stream",
     "name": "stdout",
     "text": [
      "The 2018 file has 352531 rows\nThe 2019 file has 403171 rows\nThe 2020 file has 336595 rows\n"
     ]
    }
   ],
   "source": [
    "countRow2018 = df2018.shape[0]\n",
    "countRow2019 = df2019.shape[0]\n",
    "countRow2020 = df2020.shape[0]\n",
    "print(f'The 2018 file has {countRow2018} rows')\n",
    "print(f'The 2019 file has {countRow2019} rows')\n",
    "print(f'The 2020 file has {countRow2020} rows')"
   ]
  },
  {
   "cell_type": "code",
   "execution_count": 139,
   "metadata": {},
   "outputs": [
    {
     "output_type": "stream",
     "name": "stdout",
     "text": [
      "everything matches in 2018\neverything matches in 2019\neverything matches in 2020\n"
     ]
    }
   ],
   "source": [
    "if countRow2018 == (maletrips2018 + femaletrips2018 + unknowntrips2018):\n",
    "    print(\"everything matches in 2018\")\n",
    "else:\n",
    "    print(\"Something is wrong in 2018\")\n",
    "if countRow2019 == (maletrips2019 + femaletrips2019 + unknowntrips2019):\n",
    "    print(\"everything matches in 2019\")\n",
    "else:\n",
    "    print(\"Something is wrong in 2019\")\n",
    "if countRow2020 == (maletrips2020 + femaletrips2020 + unknowntrips2020):\n",
    "    print(\"everything matches in 2020\")\n",
    "else:\n",
    "    print(\"Something is wrong in 2020\")    "
   ]
  },
  {
   "cell_type": "code",
   "execution_count": 140,
   "metadata": {},
   "outputs": [
    {
     "output_type": "stream",
     "name": "stdout",
     "text": [
      "everything matches in 2018\neverything matches in 2019\neverything matches in 2020\n"
     ]
    }
   ],
   "source": [
    "if countRow2018 == (subscount2018 + custcount2018):\n",
    "    print(\"everything matches in 2018\")\n",
    "else:\n",
    "    print(\"Something is wrong in 2018\")\n",
    "if countRow2019 == (subscount2019 + custcount2019):\n",
    "    print(\"everything matches in 2019\")\n",
    "else:\n",
    "    print(\"Something is wrong in 2019\")\n",
    "if countRow2020 == (subscount2020 + custcount2020):\n",
    "    print(\"everything matches in 2020\")\n",
    "else:\n",
    "    print(\"Something is wrong in 2020\")\n",
    "        "
   ]
  },
  {
   "cell_type": "code",
   "execution_count": 148,
   "metadata": {},
   "outputs": [
    {
     "output_type": "stream",
     "name": "stdout",
     "text": [
      "----2018----\nUsers rode 255633.53 miles in Jersey City\nThe average trip was 0.73 miles long and took 11 minutes\nThe fastest average speed on a trip was 18.44 MPH\nThe average trip speed in Jersey City was 6.83 MPH\n\n----2019----\nUsers rode 296438.18 miles in Jersey City\nThe average trip was 0.74 miles long and took 12 minutes\nThe fastest average speed on a trip was 20.07 MPH\nThe average trip speed in Jersey City was 6.74 MPH\n\n----2020----\nUsers rode 254483.46 miles in Jersey City\nThe average trip was 0.76 miles long and took 26 minutes\nThe fastest average speed on a trip was 17.81 MPH\nThe average trip speed in Jersey City was 4.96 MPH\n"
     ]
    }
   ],
   "source": [
    "totalMiles2018 = df2018['tripDistMiles'].sum()\n",
    "avgTrip2018 = df2018['tripDistMiles'].mean()\n",
    "avgTime2018 = df2018['tripduration'].mean()\n",
    "totalMiles2019 = df2019['tripDistMiles'].sum()\n",
    "avgTrip2019 = df2019['tripDistMiles'].mean()\n",
    "avgTime2019 = df2019['tripduration'].mean()\n",
    "totalMiles2020 = df2020['tripDistMiles'].sum()\n",
    "avgTrip2020 = df2020['tripDistMiles'].mean()\n",
    "avgTime2020 = df2020['tripduration'].mean()\n",
    "print(f'----2018----')\n",
    "print(f'Users rode {round(totalMiles2018, 2)} miles in Jersey City')\n",
    "print(f'The average trip was {round(avgTrip2018, 2)} miles long and took {int(round(avgTime2018/60))} minutes')\n",
    "print(f'The fastest average speed on a trip was {round(fastestSpeed2018, 2)} MPH')\n",
    "print(f'The average trip speed in Jersey City was {round(avgSpeed2018, 2)} MPH')\n",
    "print(f'\\n----2019----')\n",
    "print(f'Users rode {round(totalMiles2019, 2)} miles in Jersey City')\n",
    "print(f'The average trip was {round(avgTrip2019, 2)} miles long and took {int(round(avgTime2019/60))} minutes')\n",
    "print(f'The fastest average speed on a trip was {round(fastestSpeed2019, 2)} MPH')\n",
    "print(f'The average trip speed in Jersey City was {round(avgSpeed2019, 2)} MPH')\n",
    "print(f'\\n----2020----')\n",
    "print(f'Users rode {round(totalMiles2020, 2)} miles in Jersey City')\n",
    "print(f'The average trip was {round(avgTrip2020, 2)} miles long and took {int(round(avgTime2020/60))} minutes')\n",
    "print(f'The fastest average speed on a trip was {round(fastestSpeed2020, 2)} MPH')\n",
    "print(f'The average trip speed in Jersey City was {round(avgSpeed2020, 2)} MPH')"
   ]
  },
  {
   "cell_type": "code",
   "execution_count": 161,
   "metadata": {},
   "outputs": [
    {
     "output_type": "stream",
     "name": "stdout",
     "text": [
      "1931\n1940\n1920\nAverage Renter's age in 2018 was 38\nAverage Renter's age in 2019 was 38\nAverage Renter's age in 2020 was 39\n"
     ]
    }
   ],
   "source": [
    "print(df2018['birthyear'].min())\n",
    "print(df2019['birthyear'].min())\n",
    "print(df2020['birthyear'].min())\n",
    "avgbirthyr2018 = (df2018['birthyear'].mean())\n",
    "avgbirthyr2019 = (df2019['birthyear'].mean())\n",
    "avgbirthyr2020 = (df2020['birthyear'].mean())\n",
    "print(f'Average Renter\\'s age in 2018 was {round(2018 - avgbirthyr2018)}')\n",
    "print(f'Average Renter\\'s age in 2019 was {round(2019 - avgbirthyr2019)}')\n",
    "print(f'Average Renter\\'s age in 2020 was {round(2020 - avgbirthyr2020)}')"
   ]
  },
  {
   "cell_type": "code",
   "execution_count": 143,
   "metadata": {},
   "outputs": [
    {
     "output_type": "execute_result",
     "data": {
      "text/plain": [
       "0    29444\n",
       "1    26305\n",
       "2    29268\n",
       "3    29278\n",
       "4    29276\n",
       "Name: bikeid, dtype: int64"
      ]
     },
     "metadata": {},
     "execution_count": 143
    }
   ],
   "source": [
    "# bikeID = jan2018['bikeid'].value_counts()\n",
    "bikeID2018 = df2018['bikeid']\n",
    "bikeID2019 = df2019['bikeid']\n",
    "bikeID2020 = df2020['bikeid']\n",
    "bikeID2018.head()\n",
    "bikeID2019.head()\n",
    "bikeID2020.head()"
   ]
  },
  {
   "cell_type": "code",
   "execution_count": 144,
   "metadata": {},
   "outputs": [],
   "source": [
    "bikeCount2018 = bikeID2018.value_counts()\n",
    "bikeCount2019 = bikeID2019.value_counts()\n",
    "bikeCount2020 = bikeID2020.value_counts()\n"
   ]
  },
  {
   "cell_type": "code",
   "execution_count": 145,
   "metadata": {},
   "outputs": [],
   "source": [
    "bikeCount2018.to_csv(r'2018 bikecount.csv')\n",
    "bikeCount2019.to_csv(r'2019 bikecount.csv')\n",
    "bikeCount2020.to_csv(r'2020 bikecount.csv')\n",
    "df2018.to_csv(r'2018stats.csv')\n",
    "df2019.to_csv(r'2019stats.csv')\n",
    "df2020.to_csv(r'2020stats.csv')"
   ]
  },
  {
   "cell_type": "code",
   "execution_count": 146,
   "metadata": {},
   "outputs": [
    {
     "output_type": "execute_result",
     "data": {
      "text/plain": [
       "1    31845\n",
       "1    29641\n",
       "1    29465\n",
       "1    31847\n",
       "1    29288\n",
       "1    26221\n",
       "1    29204\n",
       "1    29791\n",
       "1    29667\n",
       "1    29654\n",
       "1    29254\n",
       "1    26175\n",
       "Name: bikeid, dtype: int64"
      ]
     },
     "metadata": {},
     "execution_count": 146
    }
   ],
   "source": [
    "bikeID2018[1]"
   ]
  },
  {
   "cell_type": "code",
   "execution_count": null,
   "metadata": {
    "collapsed": true
   },
   "outputs": [],
   "source": []
  },
  {
   "cell_type": "code",
   "execution_count": null,
   "metadata": {},
   "outputs": [],
   "source": []
  }
 ],
 "metadata": {
  "kernelspec": {
   "name": "python385jvsc74a57bd05863becc16d555a5ad58269e3181db06817bb4e94758041ec8038e0b22d84b83",
   "display_name": "Python 3.8.5 64-bit ('base': conda)"
  },
  "language_info": {
   "codemirror_mode": {
    "name": "ipython",
    "version": 3
   },
   "file_extension": ".py",
   "mimetype": "text/x-python",
   "name": "python",
   "nbconvert_exporter": "python",
   "pygments_lexer": "ipython3",
   "version": "3.8.5"
  }
 },
 "nbformat": 4,
 "nbformat_minor": 4
}